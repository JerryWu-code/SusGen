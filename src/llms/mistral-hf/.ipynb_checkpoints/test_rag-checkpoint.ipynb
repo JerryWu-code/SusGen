{
 "cells": [
  {
   "cell_type": "code",
   "execution_count": 1,
   "metadata": {},
   "outputs": [],
   "source": [
    "import logging\n",
    "import sys\n",
    "import torch\n",
    "from typing import List, Union, Tuple\n",
    "from llama_index.core import VectorStoreIndex, SimpleDirectoryReader\n",
    "from llama_index.llms.huggingface import HuggingFaceLLM\n",
    "from langchain_community.embeddings import HuggingFaceEmbeddings\n",
    "from llama_index.core import Settings\n",
    "\n",
    "torch.set_default_device('cuda')\n",
    "# ERROR to show only errors, INFO to show all logs\n",
    "logging.basicConfig(stream=sys.stdout, level=logging.INFO) \n",
    "logging.getLogger().addHandler(logging.StreamHandler(stream=sys.stdout))\n",
    "# Set the log level for the sentence_transformers package\n",
    "logging.getLogger('sentence_transformers').setLevel(logging.ERROR)\n",
    "logging.getLogger().setLevel(logging.WARNING)\n",
    "\n",
    "def load_llm_embed(llm_args: dict, embed_path: str) -> Tuple[HuggingFaceLLM, HuggingFaceEmbeddings]:\n",
    "    llm = HuggingFaceLLM(**llm_args)\n",
    "    embed_model = HuggingFaceEmbeddings(model_name=embed_path)\n",
    "    return llm, embed_model\n",
    "\n",
    "def load_documents(file_paths: Union[str, List[str]]) -> List:\n",
    "    if isinstance(file_paths, str):\n",
    "        documents = SimpleDirectoryReader(input_dir=file_paths).load_data()\n",
    "    elif isinstance(file_paths, list):\n",
    "        documents = SimpleDirectoryReader(input_files=file_paths).load_data()\n",
    "    else:\n",
    "        raise ValueError(\"Invalid input. Please provide a string or list of strings.\")\n",
    "    \n",
    "    return documents\n",
    "\n",
    "def rag_qa(index: VectorStoreIndex, query_str: str) -> str:\n",
    "    query_engine = index.as_query_engine()\n",
    "    response = query_engine.query(query_str)\n",
    "    return response"
   ]
  },
  {
   "cell_type": "code",
   "execution_count": 2,
   "metadata": {},
   "outputs": [
    {
     "data": {
      "application/vnd.jupyter.widget-view+json": {
       "model_id": "9eb243ab14dc4ae68496ab2edf8d2cad",
       "version_major": 2,
       "version_minor": 0
      },
      "text/plain": [
       "Loading checkpoint shards:   0%|          | 0/3 [00:00<?, ?it/s]"
      ]
     },
     "metadata": {},
     "output_type": "display_data"
    },
    {
     "name": "stderr",
     "output_type": "stream",
     "text": [
      "You set `add_prefix_space`. The tokenizer needs to be converted from the slow tokenizers\n"
     ]
    }
   ],
   "source": [
    "system_prompt = (\n",
    "\"You are a Q&A assistant in financial domain. \"\n",
    "\"Your goal is to answer questions as accurately as possible \"\n",
    "\"based on the instructions and context provided.\"\n",
    ")\n",
    "# This will wrap the default prompts that are internal to llama-index\n",
    "query_wrapper_prompt = \"<|USER|>{query_str}<|ASSISTANT|>\"\n",
    "mistral_v2 = \"/home/whatx/SusGen/ckpts/Mistral-7B-Instruct-v0.2-hf\"\n",
    "llama3 = \"/home/whatx/SusGen/ckpts/Meta-Llama-3-8B-Instruct-hf\"\n",
    "llm_path = mistral_v2 # llama3\n",
    "embed_model_path = \"/home/whatx/SusGen/ckpts/all-mpnet-base-v2\"\n",
    "# candidates documents ~ Folder path or file list: \n",
    "docu_files = [\"/home/whatx/SusGen/data/raw_data/raw_pdf/3M_2020_ESG.pdf\"]\n",
    "docu_folder = \"RAG/data\"\n",
    "documents_path = docu_files\n",
    "text_chunking = 1024\n",
    "\n",
    "llm_args = {\n",
    "    \"system_prompt\": system_prompt,\n",
    "    \"query_wrapper_prompt\": query_wrapper_prompt,\n",
    "    \"device_map\": \"auto\",\n",
    "    \"context_window\": 5120,\n",
    "    \"max_new_tokens\": 4096,\n",
    "    \"generate_kwargs\": {\"temperature\": 0.1, \"do_sample\": True},\n",
    "    \"tokenizer_kwargs\": {\"max_length\": 4096},\n",
    "    \"model_kwargs\": {\"torch_dtype\": torch.float16},\n",
    "    \"model_name\": llm_path,\n",
    "    \"tokenizer_name\": llm_path,\n",
    "}\n",
    "\n",
    "# Load the LLM and Embedding model\n",
    "llm, embed_model = load_llm_embed(llm_args, embed_model_path)"
   ]
  },
  {
   "cell_type": "code",
   "execution_count": 3,
   "metadata": {},
   "outputs": [],
   "source": [
    "# Load the documents\n",
    "documents = load_documents(documents_path)\n",
    "\n",
    "# Setting\n",
    "Settings.llm = llm\n",
    "Settings.embed_model = embed_model\n",
    "Settings.chunk_size = text_chunking\n",
    "index = VectorStoreIndex.from_documents(documents, settings=Settings)"
   ]
  },
  {
   "cell_type": "code",
   "execution_count": 4,
   "metadata": {},
   "outputs": [
    {
     "name": "stderr",
     "output_type": "stream",
     "text": [
      "Setting `pad_token_id` to `eos_token_id`:2 for open-end generation.\n"
     ]
    },
    {
     "name": "stdout",
     "output_type": "stream",
     "text": [
      "Based on the context provided in the 3M 2020 Sustainability Report, the company identifies several climate-related risks and opportunities.\n",
      "\n",
      "Risks:\n",
      "1. Severe weather and long-term trends could impact 3M's operations and supply chain. The company addresses these risks through a formal Enterprise Risk Management Analysis, a Business Continuity and Planning Process, and a Crisis Management Program.\n",
      "2. Natural disasters, infectious diseases, employee safety, protection of assets, customer service, and other business continuity requirements are also considered in their risk management plans.\n",
      "\n",
      "Opportunities:\n",
      "1. 3M has been a leader in addressing climate change and energy conservation. They believe that access to dependable energy supplies and energy efficiency directly affects all businesses and communities.\n",
      "2. Energy usage and climate concerns require systemic change, and 3M is a diversified technology company providing innovative solutions to address these opportunities.\n",
      "3. They have established key sustainability metrics to measure and manage climate risk, reporting on historical periods to allow for trend analysis.\n",
      "4. The company's operations bring together a combination of their 51 unique Technology Platforms to produce over 55,000 products, which are sold in nearly every country. This diversification helps reduce their risk from local climate impacts on their operations.\n",
      "\n",
      "The company's climate risk process is based on principles such as science for climate goals, relevance, completeness, consistency, accuracy, and transparency. They strive to calculate and report data coverage to 99% of inventory for Scope 1 and 2 GHG emissions and continue to develop and support advances in Scope 3 calculation methodology.\n"
     ]
    }
   ],
   "source": [
    "# RAG_QA\n",
    "# query_str = \"What is the revenue of the company in 2020?\"\n",
    "query_str = \"You are an expert in tcfd report, please describe the climate-related risks and opportunities of this company.\"\n",
    "response = rag_qa(index, query_str)\n",
    "print(response)"
   ]
  },
  {
   "cell_type": "code",
   "execution_count": 5,
   "metadata": {},
   "outputs": [
    {
     "name": "stderr",
     "output_type": "stream",
     "text": [
      "Setting `pad_token_id` to `eos_token_id`:2 for open-end generation.\n",
      "Setting `pad_token_id` to `eos_token_id`:2 for open-end generation.\n",
      "Setting `pad_token_id` to `eos_token_id`:2 for open-end generation.\n",
      "Setting `pad_token_id` to `eos_token_id`:2 for open-end generation.\n"
     ]
    },
    {
     "name": "stdout",
     "output_type": "stream",
     "text": [
      "To refine an organization's TCFD report, it is essential to provide a detailed and transparent disclosure of Scope 1, Scope 2, and, if appropriate, Scope 3 greenhouse gas (GHG) emissions, and the related risks. This aligns with the TCFD's recommendation to provide complete and consistent information on an organization's carbon footprint.\n",
      "\n",
      "In addition to disclosing the emissions and risks, organizations should also report on their climate-related opportunities, both physical and transition risks, and how they are being managed. This can help stakeholders understand the organization's approach to managing climate risks and its commitment to seizing climate-related opportunities.\n",
      "\n",
      "Regarding governance, organizations should describe their governance structure and processes related to climate risk management. This includes the roles and responsibilities of the board of directors and senior management, as well as the committees and teams dedicated to climate risk management. Organizations should also outline their policies, procedures, and guidelines for managing climate risks and how they integrate climate risk management into their overall risk management framework.\n",
      "\n",
      "To better capture climate-related risks and opportunities, organizations should set clear and measurable targets for reducing GHG emissions and report on progress towards these targets. These targets should be aligned with the organization's strategic objectives and be consistent with the goals of the Paris Agreement. Organizations should also use approved methodologies to calculate and report their emissions data and develop corporate systems and auditing procedures to ensure accuracy.\n",
      "\n",
      "Finally, organizations should report on their climate-related metrics in a transparent and relevant way to stakeholders. This can include using key performance indicators (KPIs) that go beyond compliance to thinking holistically about operations and products. Organizations should also provide historical data to allow for trend analysis and clearly describe their methodologies for calculating or estimating emissions data.\n",
      "\n",
      "In line with the TCFD's principles, organizations should strive to calculate and report data coverage to 99% of inventory for Scope 1 and 2 GHG emissions and continue to develop and support advances in Scope 3 calculation methodology. They should base their data on approved methodologies and report on emissions and activities in a way that is relevant to stakeholders.\n"
     ]
    }
   ],
   "source": [
    "query_str = \"As a specialist in the TCFD framework, elaborate on how to refine an organization\\u2019s TCFD report, specifically addressing Governance, Strategy, Risk Management, and Metrics & Targets to better capture climate-related risks and opportunities.Answer the following questions: \\n1. Disclose Scope 1, Scope 2, and, if appropriate, Scope 3 greenhouse gas (GHG) emissions, and the related risks.\\n\"\n",
    "response = rag_qa(index, query_str)\n",
    "print(response)"
   ]
  }
 ],
 "metadata": {
  "kernelspec": {
   "display_name": "susgen",
   "language": "python",
   "name": "python3"
  },
  "language_info": {
   "codemirror_mode": {
    "name": "ipython",
    "version": 3
   },
   "file_extension": ".py",
   "mimetype": "text/x-python",
   "name": "python",
   "nbconvert_exporter": "python",
   "pygments_lexer": "ipython3",
   "version": "3.10.14"
  }
 },
 "nbformat": 4,
 "nbformat_minor": 2
}
