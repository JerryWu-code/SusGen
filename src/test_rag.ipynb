{
 "cells": [
  {
   "cell_type": "code",
   "execution_count": 1,
   "metadata": {},
   "outputs": [],
   "source": [
    "import logging\n",
    "import sys\n",
    "import torch\n",
    "from typing import List, Union, Tuple\n",
    "from llama_index.core import VectorStoreIndex, SimpleDirectoryReader\n",
    "from llama_index.llms.huggingface import HuggingFaceLLM\n",
    "from langchain_community.embeddings import HuggingFaceEmbeddings\n",
    "from llama_index.core import Settings\n",
    "\n",
    "torch.set_default_device('cuda')\n",
    "# ERROR to show only errors, INFO to show all logs\n",
    "logging.basicConfig(stream=sys.stdout, level=logging.INFO) \n",
    "logging.getLogger().addHandler(logging.StreamHandler(stream=sys.stdout))\n",
    "# Set the log level for the sentence_transformers package\n",
    "logging.getLogger('sentence_transformers').setLevel(logging.ERROR)\n",
    "logging.getLogger().setLevel(logging.WARNING)\n",
    "\n",
    "def load_llm_embed(llm_args: dict, embed_path: str) -> Tuple[HuggingFaceLLM, HuggingFaceEmbeddings]:\n",
    "    llm = HuggingFaceLLM(**llm_args)\n",
    "    embed_model = HuggingFaceEmbeddings(model_name=embed_path)\n",
    "    return llm, embed_model\n",
    "\n",
    "def load_documents(file_paths: Union[str, List[str]]) -> List:\n",
    "    if isinstance(file_paths, str):\n",
    "        documents = SimpleDirectoryReader(input_dir=file_paths).load_data()\n",
    "    elif isinstance(file_paths, list):\n",
    "        documents = SimpleDirectoryReader(input_files=file_paths).load_data()\n",
    "    else:\n",
    "        raise ValueError(\"Invalid input. Please provide a string or list of strings.\")\n",
    "    \n",
    "    return documents\n",
    "\n",
    "def rag_qa(index: VectorStoreIndex, query_str: str) -> str:\n",
    "    query_engine = index.as_query_engine()\n",
    "    response = query_engine.query(query_str)\n",
    "    return response"
   ]
  },
  {
   "cell_type": "code",
   "execution_count": 2,
   "metadata": {},
   "outputs": [
    {
     "data": {
      "application/vnd.jupyter.widget-view+json": {
       "model_id": "52e906acd2104fb3b3e9b0c623da62bf",
       "version_major": 2,
       "version_minor": 0
      },
      "text/plain": [
       "Loading checkpoint shards:   0%|          | 0/3 [00:00<?, ?it/s]"
      ]
     },
     "metadata": {},
     "output_type": "display_data"
    },
    {
     "name": "stderr",
     "output_type": "stream",
     "text": [
      "You set `add_prefix_space`. The tokenizer needs to be converted from the slow tokenizers\n"
     ]
    }
   ],
   "source": [
    "system_prompt = (\n",
    "\"You are a Q&A assistant in financial domain. \"\n",
    "\"Your goal is to answer questions as accurately as possible \"\n",
    "\"based on the instructions and context provided.\"\n",
    ")\n",
    "# This will wrap the default prompts that are internal to llama-index\n",
    "query_wrapper_prompt = \"<|USER|>{query_str}<|ASSISTANT|>\"\n",
    "mistral_v2 = \"/home/whatx/SusGen/ckpts/Mistral-7B-Instruct-v0.2-hf\"\n",
    "llama3 = \"/home/whatx/SusGen/ckpts/Meta-Llama-3-8B-Instruct-hf\"\n",
    "llm_path = mistral_v2 # llama3\n",
    "embed_model_path = \"/home/whatx/SusGen/ckpts/all-mpnet-base-v2\"\n",
    "# candidates documents ~ Folder path or file list: \n",
    "docu_files = [\"/home/whatx/SusGen/data/raw_data/raw_pdf/3M_2020_ESG.pdf\"]\n",
    "docu_folder = \"RAG/data\"\n",
    "documents_path = docu_files\n",
    "text_chunking = 1024\n",
    "\n",
    "llm_args = {\n",
    "    \"system_prompt\": system_prompt,\n",
    "    \"query_wrapper_prompt\": query_wrapper_prompt,\n",
    "    \"device_map\": \"auto\",\n",
    "    \"context_window\": 5120,\n",
    "    \"max_new_tokens\": 4096,\n",
    "    \"generate_kwargs\": {\"temperature\": 0.1, \"do_sample\": True},\n",
    "    \"tokenizer_kwargs\": {\"max_length\": 4096},\n",
    "    \"model_kwargs\": {\"torch_dtype\": torch.float16},\n",
    "    \"model_name\": llm_path,\n",
    "    \"tokenizer_name\": llm_path,\n",
    "}\n",
    "\n",
    "# Load the LLM and Embedding model\n",
    "llm, embed_model = load_llm_embed(llm_args, embed_model_path)"
   ]
  },
  {
   "cell_type": "code",
   "execution_count": 8,
   "metadata": {},
   "outputs": [],
   "source": [
    "# Load the documents\n",
    "documents = load_documents(documents_path)\n",
    "\n",
    "# Setting\n",
    "Settings.llm = llm\n",
    "Settings.embed_model = embed_model\n",
    "Settings.chunk_size = text_chunking\n",
    "index = VectorStoreIndex.from_documents(documents, settings=Settings)"
   ]
  },
  {
   "cell_type": "code",
   "execution_count": 5,
   "metadata": {},
   "outputs": [
    {
     "name": "stderr",
     "output_type": "stream",
     "text": [
      "Setting `pad_token_id` to `eos_token_id`:2 for open-end generation.\n"
     ]
    },
    {
     "name": "stdout",
     "output_type": "stream",
     "text": [
      "Based on the context provided in the 3M 2020 Sustainability Report, the company identifies several climate-related risks and opportunities.\n",
      "\n",
      "Risks:\n",
      "1. Severe weather and long-term trends could impact 3M's operations and supply chain. The company addresses these risks through a formal Enterprise Risk Management Analysis, a Business Continuity and Planning Process, and a Crisis Management Program.\n",
      "2. Natural disasters, infectious diseases, employee safety, protection of assets, customer service, and other business continuity requirements are also considered in their risk management plans.\n",
      "3. Climate change and energy conservation present challenges that could affect the company's operations and the communities it serves.\n",
      "\n",
      "Opportunities:\n",
      "1. 3M is a diversified technology company providing innovative solutions to address climate change and energy conservation.\n",
      "2. Access to dependable energy supplies and energy efficiency are crucial for all businesses and communities, and 3M's operations bring together a combination of its unique Technology Platforms to produce over 55,000 products.\n",
      "3. The company believes in systemic change to address energy usage and climate concerns.\n",
      "\n",
      "The company has established key Sustainability metrics to measure and manage climate risk, and they report on historical periods to allow for trend analysis. They follow principles such as science for climate goals, relevance, completeness, consistency, accuracy, and transparency in their reporting.\n"
     ]
    }
   ],
   "source": [
    "# RAG_QA\n",
    "# query_str = \"What is the revenue of the company in 2020?\"\n",
    "query_str = \"You are an expert in tcfd report, please describe the climate-related risks and opportunities of this company.\"\n",
    "response = rag_qa(index, query_str)\n",
    "print(response)"
   ]
  },
  {
   "cell_type": "code",
   "execution_count": 9,
   "metadata": {},
   "outputs": [
    {
     "name": "stderr",
     "output_type": "stream",
     "text": [
      "Setting `pad_token_id` to `eos_token_id`:2 for open-end generation.\n"
     ]
    },
    {
     "name": "stderr",
     "output_type": "stream",
     "text": [
      "Setting `pad_token_id` to `eos_token_id`:2 for open-end generation.\n",
      "Setting `pad_token_id` to `eos_token_id`:2 for open-end generation.\n",
      "Setting `pad_token_id` to `eos_token_id`:2 for open-end generation.\n"
     ]
    },
    {
     "name": "stdout",
     "output_type": "stream",
     "text": [
      "To refine an organization's TCFD report, it is essential to provide a detailed and transparent disclosure of Scope 1, Scope 2, and, if appropriate, Scope 3 greenhouse gas (GHG) emissions and the related risks. The organization should also establish clear and comparable metrics and targets related to climate-related risks and opportunities.\n",
      "\n",
      "Regarding governance, the organization should describe its governance structure and processes related to climate risk management. This includes information on the board of directors' role in overseeing climate risk, the existence of a climate risk management policy, and the responsibilities of key personnel. The organization should also disclose how it integrates climate risk into its decision-making processes, such as through the use of scenario analysis or stress testing.\n",
      "\n",
      "In terms of risk management, the organization should outline its climate-related risks and opportunities and how they are managed. Climate-related risks can include physical risks, such as extreme weather events or sea-level rise, and transition risks, such as regulatory changes or shifts in market sentiment. Opportunities can include the development of new products or services that address climate challenges or the cost savings from energy efficiency improvements.\n",
      "\n",
      "The organization should provide clear and comparable metrics and targets related to climate-related risks and opportunities. Metrics can include GHG emissions, energy consumption, water usage, or carbon intensity. Targets can include absolute emissions reduction targets, intensity targets, or targets related to the development of low-carbon products or services. The organization should ensure that its metrics and targets are transparent, consistent, and comparable over time to enable stakeholders to assess its progress in managing climate-related risks and opportunities.\n",
      "\n",
      "The organization should also adopt science-based targets and principles, such as the Science Based Targets initiative (SBTi) goals, relevance, completeness, consistency, accuracy, and transparency. This will help ensure that the organization's climate targets are in line with the latest scientific research and that it is reporting on emissions and activities in a way that is relevant to stakeholders.\n",
      "\n",
      "The organization should strive to calculate and report data coverage to 99% of inventory for Scope 1 and 2 GHG emissions and continue to develop and support advances in Scope 3 calculation methodology. It should base its data on approved methodologies and develop corporate systems and auditing procedures to ensure accuracy.\n"
     ]
    }
   ],
   "source": [
    "query_str = \"As a specialist in the TCFD framework, elaborate on how to refine an organization\\u2019s TCFD report, specifically addressing Governance, Strategy, Risk Management, and Metrics & Targets to better capture climate-related risks and opportunities.Answer the following questions: \\n1. Disclose Scope 1, Scope 2, and, if appropriate, Scope 3 greenhouse gas (GHG) emissions, and the related risks.\\n\"\n",
    "response = rag_qa(index, query_str)\n",
    "print(response)"
   ]
  },
  {
   "cell_type": "code",
   "execution_count": null,
   "metadata": {},
   "outputs": [],
   "source": []
  }
 ],
 "metadata": {
  "kernelspec": {
   "display_name": "Python 3 (ipykernel)",
   "language": "python",
   "name": "python3"
  },
  "language_info": {
   "codemirror_mode": {
    "name": "ipython",
    "version": 3
   },
   "file_extension": ".py",
   "mimetype": "text/x-python",
   "name": "python",
   "nbconvert_exporter": "python",
   "pygments_lexer": "ipython3",
   "version": "3.10.14"
  }
 },
 "nbformat": 4,
 "nbformat_minor": 4
}
